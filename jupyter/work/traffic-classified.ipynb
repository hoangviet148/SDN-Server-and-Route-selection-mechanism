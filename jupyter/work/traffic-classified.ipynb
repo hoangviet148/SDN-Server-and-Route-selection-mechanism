{
 "cells": [
  {
   "cell_type": "code",
   "execution_count": 28,
   "id": "e4d6bb8a-656b-4e53-b880-51c0906fa8cc",
   "metadata": {},
   "outputs": [],
   "source": [
    "import os\n",
    "from time import time, localtime\n",
    "import logging\n",
    "logging.disable(logging.WARNING)\n",
    "os.environ[\"TF_CPP_MIN_LOG_LEVEL\"] = \"3\"\n",
    "import numpy as np\n",
    "# from utils import plot_graph\n",
    "# import tensorflow_federated as tff\n",
    "import tensorflow as tf\n",
    "from sklearn.preprocessing import MinMaxScaler\n",
    "from keras import losses, metrics, optimizers\n",
    "import random\n",
    "import pandas as pd\n",
    "import sys\n",
    "import matplotlib.pyplot as plt\n",
    "import nest_asyncio\n",
    "from pathlib import Path\n",
    "# from tensorflow_federated.python.research.utils import checkpoint_manager\n",
    "# import tensorflow_addons as tfa\n",
    "nest_asyncio.apply()\n",
    "SEED = 1337\n",
    "tf.random.set_seed(SEED)"
   ]
  },
  {
   "cell_type": "code",
   "execution_count": 29,
   "id": "4b76820b",
   "metadata": {},
   "outputs": [],
   "source": [
    "def most_frequent(List):\n",
    "    return max(set(List), key=List.count)"
   ]
  },
  {
   "cell_type": "code",
   "execution_count": 30,
   "id": "df353d6b",
   "metadata": {},
   "outputs": [],
   "source": [
    "test_dir = \"/home/jovyan/dataset/GQUIC_small/Test/GQUIC_test_32.feather\"\n",
    "test = pd.read_feather(test_dir)\n",
    "# print(test)\n",
    "test.to_csv(\"/home/jovyan/dataset/GQUIC_small/Test/GQUIC_test_32.csv\")\n",
    "# print(test)\n"
   ]
  },
  {
   "cell_type": "code",
   "execution_count": 31,
   "id": "fe50e16c",
   "metadata": {},
   "outputs": [],
   "source": [
    "result = test.groupby('flow_id')['Label'].apply(list).to_dict()\n",
    "# print(result, type(result))\n",
    "flow_label = []\n",
    "for flow in result:\n",
    "    flow_label.append(most_frequent(result[flow]))\n",
    "\n",
    "flow_label = np.array(flow_label)"
   ]
  },
  {
   "cell_type": "code",
   "execution_count": 32,
   "id": "5805a09f",
   "metadata": {},
   "outputs": [],
   "source": [
    "true_test = test.drop('flow_id', axis=1)\n",
    "# print(true_test)"
   ]
  },
  {
   "cell_type": "code",
   "execution_count": 33,
   "id": "feb55b4f",
   "metadata": {},
   "outputs": [],
   "source": [
    "x_test = true_test.drop('Label', axis=1).to_numpy()/255\n",
    "# print(x_test)"
   ]
  },
  {
   "cell_type": "code",
   "execution_count": 34,
   "id": "4635d916",
   "metadata": {},
   "outputs": [
    {
     "data": {
      "text/plain": [
       "array([0.0627451 , 0.04705882, 0.49411765, 0.31372549, 0.51372549,\n",
       "       0.43137255, 0.05098039, 0.80392157, 0.57647059, 0.69411765,\n",
       "       0.3372549 , 0.96470588, 0.08627451, 0.79215686, 0.44705882,\n",
       "       0.7254902 , 0.78823529, 0.97254902, 0.00784314, 0.09803922,\n",
       "       0.6       , 0.64313725, 0.11372549, 0.18039216, 0.63137255,\n",
       "       0.22352941, 0.70980392, 0.11764706, 0.75686275, 0.16470588,\n",
       "       0.79607843, 0.1372549 ])"
      ]
     },
     "execution_count": 34,
     "metadata": {},
     "output_type": "execute_result"
    }
   ],
   "source": [
    "x_test[20]"
   ]
  },
  {
   "cell_type": "code",
   "execution_count": 35,
   "id": "903b6dc8",
   "metadata": {},
   "outputs": [
    {
     "name": "stdout",
     "output_type": "stream",
     "text": [
      "(55600, 32)\n",
      "(695, 20, 128, 1)\n"
     ]
    }
   ],
   "source": [
    "print(x_test.shape)\n",
    "x_test = x_test.reshape(-1,20,128,1)\n",
    "print(x_test.shape)"
   ]
  },
  {
   "cell_type": "code",
   "execution_count": 36,
   "id": "0f66fc09",
   "metadata": {},
   "outputs": [
    {
     "data": {
      "text/plain": [
       "array([[[0.68627451],\n",
       "        [0.59607843],\n",
       "        [0.17254902],\n",
       "        ...,\n",
       "        [0.88627451],\n",
       "        [0.88627451],\n",
       "        [0.10196078]],\n",
       "\n",
       "       [[0.28627451],\n",
       "        [0.17647059],\n",
       "        [0.45490196],\n",
       "        ...,\n",
       "        [0.32156863],\n",
       "        [0.16470588],\n",
       "        [0.27058824]],\n",
       "\n",
       "       [[0.29803922],\n",
       "        [0.10980392],\n",
       "        [0.65490196],\n",
       "        ...,\n",
       "        [0.        ],\n",
       "        [0.        ],\n",
       "        [0.        ]],\n",
       "\n",
       "       ...,\n",
       "\n",
       "       [[0.63921569],\n",
       "        [0.30588235],\n",
       "        [0.03921569],\n",
       "        ...,\n",
       "        [0.58431373],\n",
       "        [0.6627451 ],\n",
       "        [0.        ]],\n",
       "\n",
       "       [[0.80392157],\n",
       "        [0.60392157],\n",
       "        [0.89803922],\n",
       "        ...,\n",
       "        [0.        ],\n",
       "        [0.        ],\n",
       "        [0.        ]],\n",
       "\n",
       "       [[0.91372549],\n",
       "        [0.62352941],\n",
       "        [0.48627451],\n",
       "        ...,\n",
       "        [0.63921569],\n",
       "        [0.69411765],\n",
       "        [0.31764706]]])"
      ]
     },
     "execution_count": 36,
     "metadata": {},
     "output_type": "execute_result"
    }
   ],
   "source": [
    "x_test[20]"
   ]
  },
  {
   "cell_type": "markdown",
   "id": "9ef04138",
   "metadata": {
    "tags": []
   },
   "source": [
    "### Model Definition"
   ]
  },
  {
   "cell_type": "code",
   "execution_count": 37,
   "id": "921240ee",
   "metadata": {},
   "outputs": [],
   "source": [
    "model = tf.keras.models.load_model(\"/home/jovyan/dataset/model_2\")"
   ]
  },
  {
   "cell_type": "code",
   "execution_count": 38,
   "id": "6ab76c04",
   "metadata": {},
   "outputs": [
    {
     "data": {
      "text/plain": [
       "<keras.engine.sequential.Sequential at 0x7fad75fd3fd0>"
      ]
     },
     "execution_count": 38,
     "metadata": {},
     "output_type": "execute_result"
    }
   ],
   "source": [
    "model"
   ]
  },
  {
   "cell_type": "code",
   "execution_count": 39,
   "id": "76374143",
   "metadata": {},
   "outputs": [
    {
     "name": "stdout",
     "output_type": "stream",
     "text": [
      "Model: \"sequential_3\"\n",
      "_________________________________________________________________\n",
      " Layer (type)                Output Shape              Param #   \n",
      "=================================================================\n",
      " conv2d_12 (Conv2D)          (None, 20, 128, 32)       832       \n",
      "                                                                 \n",
      " conv2d_13 (Conv2D)          (None, 20, 128, 32)       25632     \n",
      "                                                                 \n",
      " max_pooling2d_6 (MaxPooling  (None, 10, 64, 32)       0         \n",
      " 2D)                                                             \n",
      "                                                                 \n",
      " conv2d_14 (Conv2D)          (None, 10, 64, 64)        18496     \n",
      "                                                                 \n",
      " conv2d_15 (Conv2D)          (None, 10, 64, 64)        36928     \n",
      "                                                                 \n",
      " max_pooling2d_7 (MaxPooling  (None, 5, 32, 64)        0         \n",
      " 2D)                                                             \n",
      "                                                                 \n",
      " flatten_3 (Flatten)         (None, 10240)             0         \n",
      "                                                                 \n",
      " dense_6 (Dense)             (None, 256)               2621696   \n",
      "                                                                 \n",
      " dense_7 (Dense)             (None, 4)                 1028      \n",
      "                                                                 \n",
      "=================================================================\n",
      "Total params: 2,704,612\n",
      "Trainable params: 2,704,612\n",
      "Non-trainable params: 0\n",
      "_________________________________________________________________\n"
     ]
    }
   ],
   "source": [
    "model.summary()"
   ]
  },
  {
   "cell_type": "markdown",
   "id": "2369418a",
   "metadata": {
    "tags": []
   },
   "source": [
    "### Predict"
   ]
  },
  {
   "cell_type": "markdown",
   "id": "d7cca576",
   "metadata": {},
   "source": [
    "#### Predict all"
   ]
  },
  {
   "cell_type": "code",
   "execution_count": 40,
   "id": "55e77824",
   "metadata": {},
   "outputs": [
    {
     "name": "stdout",
     "output_type": "stream",
     "text": [
      "11/11 - 1s - 637ms/epoch - 58ms/step\n",
      "[[1.0626294e-08 9.9896431e-01 1.4558329e-06 1.0342860e-03]\n",
      " [7.0241816e-07 9.5604706e-01 1.2743822e-04 4.3824881e-02]\n",
      " [2.0174480e-06 6.6617328e-01 8.0142915e-04 3.3302328e-01]\n",
      " ...\n",
      " [1.7344541e-04 9.9575979e-01 3.1113498e-06 4.0637380e-03]\n",
      " [2.3151218e-04 9.6708393e-01 2.3404445e-04 3.2450531e-02]\n",
      " [9.7959220e-02 6.6721952e-01 7.1256296e-03 2.2769560e-01]]\n"
     ]
    }
   ],
   "source": [
    "predictions = model.predict(x_test,verbose=2,use_multiprocessing=True,batch_size=64)\n",
    "print(predictions)"
   ]
  },
  {
   "cell_type": "code",
   "execution_count": 41,
   "id": "b2e24926",
   "metadata": {},
   "outputs": [],
   "source": [
    "flow_pred = np.argmax(predictions, axis=-1)"
   ]
  },
  {
   "cell_type": "code",
   "execution_count": 46,
   "id": "24ca55f2",
   "metadata": {},
   "outputs": [
    {
     "name": "stdout",
     "output_type": "stream",
     "text": [
      "(20, 128, 1)\n",
      "(1, 20, 128, 1)\n",
      "[[[[0.0627451 ]\n",
      "   [0.03921569]\n",
      "   [0.58431373]\n",
      "   ...\n",
      "   [0.07843137]\n",
      "   [0.49803922]\n",
      "   [0.23921569]]\n",
      "\n",
      "  [[0.0627451 ]\n",
      "   [0.03921569]\n",
      "   [0.64705882]\n",
      "   ...\n",
      "   [0.43529412]\n",
      "   [0.48235294]\n",
      "   [0.1372549 ]]\n",
      "\n",
      "  [[0.0627451 ]\n",
      "   [0.03921569]\n",
      "   [0.62745098]\n",
      "   ...\n",
      "   [0.18431373]\n",
      "   [0.83137255]\n",
      "   [0.31764706]]\n",
      "\n",
      "  ...\n",
      "\n",
      "  [[0.0627451 ]\n",
      "   [0.00392157]\n",
      "   [0.02352941]\n",
      "   ...\n",
      "   [0.56078431]\n",
      "   [0.41568627]\n",
      "   [1.        ]]\n",
      "\n",
      "  [[0.0627451 ]\n",
      "   [0.        ]\n",
      "   [0.99215686]\n",
      "   ...\n",
      "   [0.40392157]\n",
      "   [0.56078431]\n",
      "   [0.43137255]]\n",
      "\n",
      "  [[0.0627451 ]\n",
      "   [0.00392157]\n",
      "   [0.00392157]\n",
      "   ...\n",
      "   [0.98039216]\n",
      "   [0.30980392]\n",
      "   [0.98823529]]]]\n",
      "1/1 [==============================] - 0s 19ms/step\n",
      "Label 1\n"
     ]
    }
   ],
   "source": [
    "print(x_test[0].shape)\n",
    "one_flow = x_test[0].reshape(-1,20,128,1)\n",
    "print(one_flow.shape)\n",
    "print(one_flow)\n",
    "\n",
    "predictions_1flow = model.predict(one_flow)\n",
    "one_flow_pred = int(np.argmax(predictions_1flow, axis=-1))\n",
    "print(\"Label\", one_flow_pred)"
   ]
  },
  {
   "cell_type": "code",
   "execution_count": 43,
   "id": "0c7c8655",
   "metadata": {
    "tags": []
   },
   "outputs": [],
   "source": [
    "label_dict ={'FileTransfer': 0, 'Music': 1, 'VoIP': 2, 'Youtube': 3}"
   ]
  },
  {
   "cell_type": "code",
   "execution_count": 44,
   "id": "169e7f21",
   "metadata": {},
   "outputs": [
    {
     "name": "stdout",
     "output_type": "stream",
     "text": [
      "Music\n"
     ]
    }
   ],
   "source": [
    "for key, value in label_dict.items():\n",
    "    if one_flow_pred == value:\n",
    "        print(key)\n"
   ]
  },
  {
   "cell_type": "code",
   "execution_count": 45,
   "id": "0119f4f4",
   "metadata": {},
   "outputs": [
    {
     "ename": "ValueError",
     "evalue": "Found input variables with inconsistent numbers of samples: [2780, 695]",
     "output_type": "error",
     "traceback": [
      "\u001b[0;31m---------------------------------------------------------------------------\u001b[0m",
      "\u001b[0;31mValueError\u001b[0m                                Traceback (most recent call last)",
      "Cell \u001b[0;32mIn[45], line 6\u001b[0m\n\u001b[1;32m      2\u001b[0m \u001b[39mfrom\u001b[39;00m \u001b[39msklearn\u001b[39;00m\u001b[39m.\u001b[39;00m\u001b[39mmetrics\u001b[39;00m \u001b[39mimport\u001b[39;00m accuracy_score, precision_score, recall_score, f1_score\n\u001b[1;32m      3\u001b[0m \u001b[39mfrom\u001b[39;00m \u001b[39msklearn\u001b[39;00m\u001b[39m.\u001b[39;00m\u001b[39mmetrics\u001b[39;00m \u001b[39mimport\u001b[39;00m classification_report\n\u001b[0;32m----> 6\u001b[0m \u001b[39mprint\u001b[39m(\u001b[39m'\u001b[39m\u001b[39m\\n\u001b[39;00m\u001b[39mAccuracy: \u001b[39m\u001b[39m{:.2f}\u001b[39;00m\u001b[39m\\n\u001b[39;00m\u001b[39m'\u001b[39m\u001b[39m.\u001b[39mformat(accuracy_score(flow_label, flow_pred)))\n",
      "File \u001b[0;32m/opt/conda/lib/python3.10/site-packages/sklearn/utils/_param_validation.py:192\u001b[0m, in \u001b[0;36mvalidate_params.<locals>.decorator.<locals>.wrapper\u001b[0;34m(*args, **kwargs)\u001b[0m\n\u001b[1;32m    187\u001b[0m validate_parameter_constraints(\n\u001b[1;32m    188\u001b[0m     parameter_constraints, params, caller_name\u001b[39m=\u001b[39mfunc\u001b[39m.\u001b[39m\u001b[39m__qualname__\u001b[39m\n\u001b[1;32m    189\u001b[0m )\n\u001b[1;32m    191\u001b[0m \u001b[39mtry\u001b[39;00m:\n\u001b[0;32m--> 192\u001b[0m     \u001b[39mreturn\u001b[39;00m func(\u001b[39m*\u001b[39;49margs, \u001b[39m*\u001b[39;49m\u001b[39m*\u001b[39;49mkwargs)\n\u001b[1;32m    193\u001b[0m \u001b[39mexcept\u001b[39;00m InvalidParameterError \u001b[39mas\u001b[39;00m e:\n\u001b[1;32m    194\u001b[0m     \u001b[39m# When the function is just a wrapper around an estimator, we allow\u001b[39;00m\n\u001b[1;32m    195\u001b[0m     \u001b[39m# the function to delegate validation to the estimator, but we replace\u001b[39;00m\n\u001b[1;32m    196\u001b[0m     \u001b[39m# the name of the estimator by the name of the function in the error\u001b[39;00m\n\u001b[1;32m    197\u001b[0m     \u001b[39m# message to avoid confusion.\u001b[39;00m\n\u001b[1;32m    198\u001b[0m     msg \u001b[39m=\u001b[39m re\u001b[39m.\u001b[39msub(\n\u001b[1;32m    199\u001b[0m         \u001b[39mr\u001b[39m\u001b[39m\"\u001b[39m\u001b[39mparameter of \u001b[39m\u001b[39m\\\u001b[39m\u001b[39mw+ must be\u001b[39m\u001b[39m\"\u001b[39m,\n\u001b[1;32m    200\u001b[0m         \u001b[39mf\u001b[39m\u001b[39m\"\u001b[39m\u001b[39mparameter of \u001b[39m\u001b[39m{\u001b[39;00mfunc\u001b[39m.\u001b[39m\u001b[39m__qualname__\u001b[39m\u001b[39m}\u001b[39;00m\u001b[39m must be\u001b[39m\u001b[39m\"\u001b[39m,\n\u001b[1;32m    201\u001b[0m         \u001b[39mstr\u001b[39m(e),\n\u001b[1;32m    202\u001b[0m     )\n",
      "File \u001b[0;32m/opt/conda/lib/python3.10/site-packages/sklearn/metrics/_classification.py:221\u001b[0m, in \u001b[0;36maccuracy_score\u001b[0;34m(y_true, y_pred, normalize, sample_weight)\u001b[0m\n\u001b[1;32m    155\u001b[0m \u001b[39m\"\"\"Accuracy classification score.\u001b[39;00m\n\u001b[1;32m    156\u001b[0m \n\u001b[1;32m    157\u001b[0m \u001b[39mIn multilabel classification, this function computes subset accuracy:\u001b[39;00m\n\u001b[0;32m   (...)\u001b[0m\n\u001b[1;32m    217\u001b[0m \u001b[39m0.5\u001b[39;00m\n\u001b[1;32m    218\u001b[0m \u001b[39m\"\"\"\u001b[39;00m\n\u001b[1;32m    220\u001b[0m \u001b[39m# Compute accuracy for each possible representation\u001b[39;00m\n\u001b[0;32m--> 221\u001b[0m y_type, y_true, y_pred \u001b[39m=\u001b[39m _check_targets(y_true, y_pred)\n\u001b[1;32m    222\u001b[0m check_consistent_length(y_true, y_pred, sample_weight)\n\u001b[1;32m    223\u001b[0m \u001b[39mif\u001b[39;00m y_type\u001b[39m.\u001b[39mstartswith(\u001b[39m\"\u001b[39m\u001b[39mmultilabel\u001b[39m\u001b[39m\"\u001b[39m):\n",
      "File \u001b[0;32m/opt/conda/lib/python3.10/site-packages/sklearn/metrics/_classification.py:86\u001b[0m, in \u001b[0;36m_check_targets\u001b[0;34m(y_true, y_pred)\u001b[0m\n\u001b[1;32m     59\u001b[0m \u001b[39mdef\u001b[39;00m \u001b[39m_check_targets\u001b[39m(y_true, y_pred):\n\u001b[1;32m     60\u001b[0m     \u001b[39m\"\"\"Check that y_true and y_pred belong to the same classification task.\u001b[39;00m\n\u001b[1;32m     61\u001b[0m \n\u001b[1;32m     62\u001b[0m \u001b[39m    This converts multiclass or binary types to a common shape, and raises a\u001b[39;00m\n\u001b[0;32m   (...)\u001b[0m\n\u001b[1;32m     84\u001b[0m \u001b[39m    y_pred : array or indicator matrix\u001b[39;00m\n\u001b[1;32m     85\u001b[0m \u001b[39m    \"\"\"\u001b[39;00m\n\u001b[0;32m---> 86\u001b[0m     check_consistent_length(y_true, y_pred)\n\u001b[1;32m     87\u001b[0m     type_true \u001b[39m=\u001b[39m type_of_target(y_true, input_name\u001b[39m=\u001b[39m\u001b[39m\"\u001b[39m\u001b[39my_true\u001b[39m\u001b[39m\"\u001b[39m)\n\u001b[1;32m     88\u001b[0m     type_pred \u001b[39m=\u001b[39m type_of_target(y_pred, input_name\u001b[39m=\u001b[39m\u001b[39m\"\u001b[39m\u001b[39my_pred\u001b[39m\u001b[39m\"\u001b[39m)\n",
      "File \u001b[0;32m/opt/conda/lib/python3.10/site-packages/sklearn/utils/validation.py:397\u001b[0m, in \u001b[0;36mcheck_consistent_length\u001b[0;34m(*arrays)\u001b[0m\n\u001b[1;32m    395\u001b[0m uniques \u001b[39m=\u001b[39m np\u001b[39m.\u001b[39munique(lengths)\n\u001b[1;32m    396\u001b[0m \u001b[39mif\u001b[39;00m \u001b[39mlen\u001b[39m(uniques) \u001b[39m>\u001b[39m \u001b[39m1\u001b[39m:\n\u001b[0;32m--> 397\u001b[0m     \u001b[39mraise\u001b[39;00m \u001b[39mValueError\u001b[39;00m(\n\u001b[1;32m    398\u001b[0m         \u001b[39m\"\u001b[39m\u001b[39mFound input variables with inconsistent numbers of samples: \u001b[39m\u001b[39m%r\u001b[39;00m\u001b[39m\"\u001b[39m\n\u001b[1;32m    399\u001b[0m         \u001b[39m%\u001b[39m [\u001b[39mint\u001b[39m(l) \u001b[39mfor\u001b[39;00m l \u001b[39min\u001b[39;00m lengths]\n\u001b[1;32m    400\u001b[0m     )\n",
      "\u001b[0;31mValueError\u001b[0m: Found input variables with inconsistent numbers of samples: [2780, 695]"
     ]
    }
   ],
   "source": [
    "from sklearn.metrics import confusion_matrix\n",
    "from sklearn.metrics import accuracy_score, precision_score, recall_score, f1_score\n",
    "from sklearn.metrics import classification_report\n",
    "\n",
    "\n",
    "print('\\nAccuracy: {:.2f}\\n'.format(accuracy_score(flow_label, flow_pred)))"
   ]
  }
 ],
 "metadata": {
  "kernelspec": {
   "display_name": "Python 3 (ipykernel)",
   "language": "python",
   "name": "python3"
  },
  "language_info": {
   "codemirror_mode": {
    "name": "ipython",
    "version": 3
   },
   "file_extension": ".py",
   "mimetype": "text/x-python",
   "name": "python",
   "nbconvert_exporter": "python",
   "pygments_lexer": "ipython3",
   "version": "3.10.8"
  },
  "vscode": {
   "interpreter": {
    "hash": "d4d1e4263499bec80672ea0156c357c1ee493ec2b1c70f0acce89fc37c4a6abe"
   }
  }
 },
 "nbformat": 4,
 "nbformat_minor": 5
}
