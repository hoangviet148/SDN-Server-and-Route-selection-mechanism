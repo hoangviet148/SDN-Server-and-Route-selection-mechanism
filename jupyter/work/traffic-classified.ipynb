{
 "cells": [
  {
   "cell_type": "code",
   "execution_count": 1,
   "id": "e4d6bb8a-656b-4e53-b880-51c0906fa8cc",
   "metadata": {},
   "outputs": [],
   "source": [
    "import os\n",
    "from time import time, localtime\n",
    "import logging\n",
    "logging.disable(logging.WARNING)\n",
    "os.environ[\"TF_CPP_MIN_LOG_LEVEL\"] = \"3\"\n",
    "import numpy as np\n",
    "# from utils import plot_graph\n",
    "# import tensorflow_federated as tff\n",
    "import tensorflow as tf\n",
    "from sklearn.preprocessing import MinMaxScaler\n",
    "from keras import losses, metrics, optimizers\n",
    "import random\n",
    "import pandas as pd\n",
    "import sys\n",
    "import matplotlib.pyplot as plt\n",
    "import nest_asyncio\n",
    "from pathlib import Path\n",
    "# from tensorflow_federated.python.research.utils import checkpoint_manager\n",
    "# import tensorflow_addons as tfa\n",
    "nest_asyncio.apply()\n",
    "SEED = 1337\n",
    "tf.random.set_seed(SEED)"
   ]
  },
  {
   "cell_type": "code",
   "execution_count": 2,
   "id": "4b76820b",
   "metadata": {},
   "outputs": [],
   "source": [
    "def most_frequent(List):\n",
    "    return max(set(List), key=List.count)"
   ]
  },
  {
   "cell_type": "code",
   "execution_count": 3,
   "id": "df353d6b",
   "metadata": {},
   "outputs": [
    {
     "name": "stdout",
     "output_type": "stream",
     "text": [
      "       flow_id    0    1    2    3    4    5    6    7    8  ...   23   24  \\\n",
      "0           29   16   10  149  182  192  172  158  109   13  ...  231  253   \n",
      "1           29   16   10  168  155  186  253  154  217  174  ...  154  238   \n",
      "2           29   16   10  167  101   83  237  126   84  226  ...  119  108   \n",
      "3           29   16   10  166  230  173   64    4  169   36  ...  248   79   \n",
      "4           29   16   10  165   59   89  192  140  124  161  ...  235   26   \n",
      "...        ...  ...  ...  ...  ...  ...  ...  ...  ...  ...  ...  ...  ...   \n",
      "55595   138365  144  111   86  255  137  119   88  101  151  ...   27    2   \n",
      "55596   138365  144  239   86  254  137  119   84  165  151  ...   88  189   \n",
      "55597   138365  144  111   87   16  137  119  152   37  151  ...   46  104   \n",
      "55598   138365  144  111   87    6  137  119  114  165  151  ...  170   76   \n",
      "55599   138365  144  111   87   17  137  119  155  229  151  ...  124  166   \n",
      "\n",
      "        25   26   27   28   29   30   31  Label  \n",
      "0       40   71   42  169   52   12  153      1  \n",
      "1       73   98  194  210  179  113  110      1  \n",
      "2      131  103  189   78  228   42  189      1  \n",
      "3       49  153  247  239   20  127   61      1  \n",
      "4      210  191  229  136   40   41  175      1  \n",
      "...    ...  ...  ...  ...  ...  ...  ...    ...  \n",
      "55595   68  103  124   41  180  168   47      2  \n",
      "55596   73  102  174  103   91  105   20      2  \n",
      "55597   31  228  147   25  126  176   59      2  \n",
      "55598  114  239  169   79  191   11  190      2  \n",
      "55599  183  227  208  179  175  171  212      2  \n",
      "\n",
      "[55600 rows x 34 columns]\n"
     ]
    }
   ],
   "source": [
    "test_dir = \"/home/jovyan/dataset/GQUIC_small/Test/GQUIC_test_32.feather\"\n",
    "test = pd.read_feather(test_dir)\n",
    "# print(test)\n",
    "test.to_csv(\"/home/jovyan/dataset/GQUIC_small/Test/GQUIC_test_32.csv\")\n",
    "print(test)\n"
   ]
  },
  {
   "cell_type": "code",
   "execution_count": 4,
   "id": "fe50e16c",
   "metadata": {},
   "outputs": [],
   "source": [
    "result = test.groupby('flow_id')['Label'].apply(list).to_dict()\n",
    "# print(result, type(result))\n",
    "flow_label = []\n",
    "for flow in result:\n",
    "    flow_label.append(most_frequent(result[flow]))\n",
    "\n",
    "flow_label = np.array(flow_label)"
   ]
  },
  {
   "cell_type": "code",
   "execution_count": 5,
   "id": "5805a09f",
   "metadata": {},
   "outputs": [],
   "source": [
    "true_test = test.drop('flow_id', axis=1)\n",
    "# print(true_test)"
   ]
  },
  {
   "cell_type": "code",
   "execution_count": 6,
   "id": "feb55b4f",
   "metadata": {},
   "outputs": [
    {
     "name": "stdout",
     "output_type": "stream",
     "text": [
      "[[0.0627451  0.03921569 0.58431373 ... 0.20392157 0.04705882 0.6       ]\n",
      " [0.0627451  0.03921569 0.65882353 ... 0.70196078 0.44313725 0.43137255]\n",
      " [0.0627451  0.03921569 0.65490196 ... 0.89411765 0.16470588 0.74117647]\n",
      " ...\n",
      " [0.56470588 0.43529412 0.34117647 ... 0.49411765 0.69019608 0.23137255]\n",
      " [0.56470588 0.43529412 0.34117647 ... 0.74901961 0.04313725 0.74509804]\n",
      " [0.56470588 0.43529412 0.34117647 ... 0.68627451 0.67058824 0.83137255]]\n"
     ]
    }
   ],
   "source": [
    "x_test = true_test.drop('Label', axis=1).to_numpy()/255\n",
    "print(x_test)"
   ]
  },
  {
   "cell_type": "code",
   "execution_count": 7,
   "id": "4635d916",
   "metadata": {},
   "outputs": [
    {
     "data": {
      "text/plain": [
       "array([0.0627451 , 0.04705882, 0.49411765, 0.31372549, 0.51372549,\n",
       "       0.43137255, 0.05098039, 0.80392157, 0.57647059, 0.69411765,\n",
       "       0.3372549 , 0.96470588, 0.08627451, 0.79215686, 0.44705882,\n",
       "       0.7254902 , 0.78823529, 0.97254902, 0.00784314, 0.09803922,\n",
       "       0.6       , 0.64313725, 0.11372549, 0.18039216, 0.63137255,\n",
       "       0.22352941, 0.70980392, 0.11764706, 0.75686275, 0.16470588,\n",
       "       0.79607843, 0.1372549 ])"
      ]
     },
     "execution_count": 7,
     "metadata": {},
     "output_type": "execute_result"
    }
   ],
   "source": [
    "x_test[20]"
   ]
  },
  {
   "cell_type": "code",
   "execution_count": 8,
   "id": "903b6dc8",
   "metadata": {},
   "outputs": [
    {
     "name": "stdout",
     "output_type": "stream",
     "text": [
      "(55600, 32)\n",
      "(695, 20, 128, 1)\n"
     ]
    }
   ],
   "source": [
    "print(x_test.shape)\n",
    "x_test = x_test.reshape(-1,20,128,1)\n",
    "print(x_test.shape)"
   ]
  },
  {
   "cell_type": "code",
   "execution_count": 9,
   "id": "0f66fc09",
   "metadata": {},
   "outputs": [
    {
     "data": {
      "text/plain": [
       "array([[[0.0627451 ],\n",
       "        [0.09411765],\n",
       "        [0.1372549 ],\n",
       "        ...,\n",
       "        [0.14509804],\n",
       "        [0.88627451],\n",
       "        [0.94117647]],\n",
       "\n",
       "       [[0.0627451 ],\n",
       "        [0.09411765],\n",
       "        [0.15686275],\n",
       "        ...,\n",
       "        [0.05490196],\n",
       "        [0.66666667],\n",
       "        [0.39607843]],\n",
       "\n",
       "       [[0.0627451 ],\n",
       "        [0.09411765],\n",
       "        [0.14117647],\n",
       "        ...,\n",
       "        [0.96470588],\n",
       "        [0.55294118],\n",
       "        [0.71372549]],\n",
       "\n",
       "       ...,\n",
       "\n",
       "       [[0.04705882],\n",
       "        [0.45490196],\n",
       "        [0.98823529],\n",
       "        ...,\n",
       "        [0.54117647],\n",
       "        [0.60392157],\n",
       "        [0.1254902 ]],\n",
       "\n",
       "       [[0.04705882],\n",
       "        [0.45490196],\n",
       "        [0.98823529],\n",
       "        ...,\n",
       "        [0.80784314],\n",
       "        [0.77254902],\n",
       "        [0.74509804]],\n",
       "\n",
       "       [[0.        ],\n",
       "        [0.76078431],\n",
       "        [0.9372549 ],\n",
       "        ...,\n",
       "        [0.51764706],\n",
       "        [0.43137255],\n",
       "        [0.48235294]]])"
      ]
     },
     "execution_count": 9,
     "metadata": {},
     "output_type": "execute_result"
    }
   ],
   "source": [
    "x_test[1]"
   ]
  },
  {
   "cell_type": "markdown",
   "id": "9ef04138",
   "metadata": {
    "tags": []
   },
   "source": [
    "### Model Definition"
   ]
  },
  {
   "cell_type": "code",
   "execution_count": 10,
   "id": "921240ee",
   "metadata": {},
   "outputs": [],
   "source": [
    "model = tf.keras.models.load_model(\"/home/jovyan/dataset/model_2\")"
   ]
  },
  {
   "cell_type": "code",
   "execution_count": 11,
   "id": "6ab76c04",
   "metadata": {},
   "outputs": [
    {
     "data": {
      "text/plain": [
       "<keras.engine.sequential.Sequential at 0x7fa10b9e31f0>"
      ]
     },
     "execution_count": 11,
     "metadata": {},
     "output_type": "execute_result"
    }
   ],
   "source": [
    "model"
   ]
  },
  {
   "cell_type": "code",
   "execution_count": 12,
   "id": "76374143",
   "metadata": {},
   "outputs": [
    {
     "name": "stdout",
     "output_type": "stream",
     "text": [
      "Model: \"sequential_3\"\n",
      "_________________________________________________________________\n",
      " Layer (type)                Output Shape              Param #   \n",
      "=================================================================\n",
      " conv2d_12 (Conv2D)          (None, 20, 128, 32)       832       \n",
      "                                                                 \n",
      " conv2d_13 (Conv2D)          (None, 20, 128, 32)       25632     \n",
      "                                                                 \n",
      " max_pooling2d_6 (MaxPooling  (None, 10, 64, 32)       0         \n",
      " 2D)                                                             \n",
      "                                                                 \n",
      " conv2d_14 (Conv2D)          (None, 10, 64, 64)        18496     \n",
      "                                                                 \n",
      " conv2d_15 (Conv2D)          (None, 10, 64, 64)        36928     \n",
      "                                                                 \n",
      " max_pooling2d_7 (MaxPooling  (None, 5, 32, 64)        0         \n",
      " 2D)                                                             \n",
      "                                                                 \n",
      " flatten_3 (Flatten)         (None, 10240)             0         \n",
      "                                                                 \n",
      " dense_6 (Dense)             (None, 256)               2621696   \n",
      "                                                                 \n",
      " dense_7 (Dense)             (None, 4)                 1028      \n",
      "                                                                 \n",
      "=================================================================\n",
      "Total params: 2,704,612\n",
      "Trainable params: 2,704,612\n",
      "Non-trainable params: 0\n",
      "_________________________________________________________________\n"
     ]
    }
   ],
   "source": [
    "model.summary()"
   ]
  },
  {
   "cell_type": "markdown",
   "id": "2369418a",
   "metadata": {
    "tags": []
   },
   "source": [
    "### Predict"
   ]
  },
  {
   "cell_type": "markdown",
   "id": "d7cca576",
   "metadata": {},
   "source": [
    "#### Predict all"
   ]
  },
  {
   "cell_type": "code",
   "execution_count": 13,
   "id": "55e77824",
   "metadata": {},
   "outputs": [
    {
     "name": "stdout",
     "output_type": "stream",
     "text": [
      "11/11 - 1s - 706ms/epoch - 64ms/step\n",
      "[[1.0626294e-08 9.9896431e-01 1.4558329e-06 1.0342860e-03]\n",
      " [7.0241816e-07 9.5604706e-01 1.2743822e-04 4.3824881e-02]\n",
      " [2.0174480e-06 6.6617328e-01 8.0142915e-04 3.3302328e-01]\n",
      " ...\n",
      " [1.7344541e-04 9.9575979e-01 3.1113498e-06 4.0637380e-03]\n",
      " [2.3151218e-04 9.6708393e-01 2.3404445e-04 3.2450531e-02]\n",
      " [9.7959220e-02 6.6721952e-01 7.1256296e-03 2.2769560e-01]]\n"
     ]
    }
   ],
   "source": [
    "predictions = model.predict(x_test,verbose=2,use_multiprocessing=True,batch_size=64)\n",
    "print(predictions)"
   ]
  },
  {
   "cell_type": "code",
   "execution_count": 14,
   "id": "b2e24926",
   "metadata": {},
   "outputs": [],
   "source": [
    "flow_pred = np.argmax(predictions, axis=-1)"
   ]
  },
  {
   "cell_type": "code",
   "execution_count": 15,
   "id": "1e8af48e",
   "metadata": {},
   "outputs": [],
   "source": [
    "from notebook.services.config import ConfigManager\n",
    "cm = ConfigManager().update('notebook', {'limit_output': 1000})"
   ]
  },
  {
   "cell_type": "code",
   "execution_count": 16,
   "id": "24ca55f2",
   "metadata": {},
   "outputs": [
    {
     "name": "stdout",
     "output_type": "stream",
     "text": [
      "[[[[0.0627451 ]\n",
      "   [0.03921569]\n",
      "   [0.58431373]\n",
      "   ...\n",
      "   [0.07843137]\n",
      "   [0.49803922]\n",
      "   [0.23921569]]\n",
      "\n",
      "  [[0.0627451 ]\n",
      "   [0.03921569]\n",
      "   [0.64705882]\n",
      "   ...\n",
      "   [0.43529412]\n",
      "   [0.48235294]\n",
      "   [0.1372549 ]]\n",
      "\n",
      "  [[0.0627451 ]\n",
      "   [0.03921569]\n",
      "   [0.62745098]\n",
      "   ...\n",
      "   [0.18431373]\n",
      "   [0.83137255]\n",
      "   [0.31764706]]\n",
      "\n",
      "  ...\n",
      "\n",
      "  [[0.0627451 ]\n",
      "   [0.00392157]\n",
      "   [0.02352941]\n",
      "   ...\n",
      "   [0.56078431]\n",
      "   [0.41568627]\n",
      "   [1.        ]]\n",
      "\n",
      "  [[0.0627451 ]\n",
      "   [0.        ]\n",
      "   [0.99215686]\n",
      "   ...\n",
      "   [0.40392157]\n",
      "   [0.56078431]\n",
      "   [0.43137255]]\n",
      "\n",
      "  [[0.0627451 ]\n",
      "   [0.00392157]\n",
      "   [0.00392157]\n",
      "   ...\n",
      "   [0.98039216]\n",
      "   [0.30980392]\n",
      "   [0.98823529]]]]\n",
      "1/1 [==============================] - 0s 18ms/step\n",
      "Label 1\n"
     ]
    }
   ],
   "source": [
    "one_flow = x_test[0].reshape(-1,20,128,1)\n",
    "print(one_flow)\n",
    "\n",
    "predictions_1flow = model.predict(one_flow)\n",
    "one_flow_pred = int(np.argmax(predictions_1flow, axis=-1))\n",
    "print(\"Label\", one_flow_pred)"
   ]
  },
  {
   "cell_type": "code",
   "execution_count": null,
   "id": "0c7c8655",
   "metadata": {
    "tags": []
   },
   "outputs": [],
   "source": [
    "label_dict ={'FileTransfer': 0, 'Music': 1, 'VoIP': 2, 'Youtube': 3}"
   ]
  },
  {
   "cell_type": "code",
   "execution_count": 19,
   "id": "169e7f21",
   "metadata": {},
   "outputs": [
    {
     "name": "stdout",
     "output_type": "stream",
     "text": [
      "Music\n"
     ]
    }
   ],
   "source": [
    "for key, value in label_dict.items():\n",
    "    if one_flow_pred == value:\n",
    "        print(key)\n"
   ]
  },
  {
   "cell_type": "code",
   "execution_count": 20,
   "id": "0119f4f4",
   "metadata": {},
   "outputs": [
    {
     "ename": "ValueError",
     "evalue": "Found input variables with inconsistent numbers of samples: [2780, 695]",
     "output_type": "error",
     "traceback": [
      "\u001b[0;31m---------------------------------------------------------------------------\u001b[0m",
      "\u001b[0;31mValueError\u001b[0m                                Traceback (most recent call last)",
      "Cell \u001b[0;32mIn[20], line 6\u001b[0m\n\u001b[1;32m      2\u001b[0m \u001b[38;5;28;01mfrom\u001b[39;00m \u001b[38;5;21;01msklearn\u001b[39;00m\u001b[38;5;21;01m.\u001b[39;00m\u001b[38;5;21;01mmetrics\u001b[39;00m \u001b[38;5;28;01mimport\u001b[39;00m accuracy_score, precision_score, recall_score, f1_score\n\u001b[1;32m      3\u001b[0m \u001b[38;5;28;01mfrom\u001b[39;00m \u001b[38;5;21;01msklearn\u001b[39;00m\u001b[38;5;21;01m.\u001b[39;00m\u001b[38;5;21;01mmetrics\u001b[39;00m \u001b[38;5;28;01mimport\u001b[39;00m classification_report\n\u001b[0;32m----> 6\u001b[0m \u001b[38;5;28mprint\u001b[39m(\u001b[38;5;124m'\u001b[39m\u001b[38;5;130;01m\\n\u001b[39;00m\u001b[38;5;124mAccuracy: \u001b[39m\u001b[38;5;132;01m{:.2f}\u001b[39;00m\u001b[38;5;130;01m\\n\u001b[39;00m\u001b[38;5;124m'\u001b[39m\u001b[38;5;241m.\u001b[39mformat(\u001b[43maccuracy_score\u001b[49m\u001b[43m(\u001b[49m\u001b[43mflow_label\u001b[49m\u001b[43m,\u001b[49m\u001b[43m \u001b[49m\u001b[43mflow_pred\u001b[49m\u001b[43m)\u001b[49m))\n",
      "File \u001b[0;32m/opt/conda/lib/python3.10/site-packages/sklearn/utils/_param_validation.py:192\u001b[0m, in \u001b[0;36mvalidate_params.<locals>.decorator.<locals>.wrapper\u001b[0;34m(*args, **kwargs)\u001b[0m\n\u001b[1;32m    187\u001b[0m validate_parameter_constraints(\n\u001b[1;32m    188\u001b[0m     parameter_constraints, params, caller_name\u001b[38;5;241m=\u001b[39mfunc\u001b[38;5;241m.\u001b[39m\u001b[38;5;18m__qualname__\u001b[39m\n\u001b[1;32m    189\u001b[0m )\n\u001b[1;32m    191\u001b[0m \u001b[38;5;28;01mtry\u001b[39;00m:\n\u001b[0;32m--> 192\u001b[0m     \u001b[38;5;28;01mreturn\u001b[39;00m \u001b[43mfunc\u001b[49m\u001b[43m(\u001b[49m\u001b[38;5;241;43m*\u001b[39;49m\u001b[43margs\u001b[49m\u001b[43m,\u001b[49m\u001b[43m \u001b[49m\u001b[38;5;241;43m*\u001b[39;49m\u001b[38;5;241;43m*\u001b[39;49m\u001b[43mkwargs\u001b[49m\u001b[43m)\u001b[49m\n\u001b[1;32m    193\u001b[0m \u001b[38;5;28;01mexcept\u001b[39;00m InvalidParameterError \u001b[38;5;28;01mas\u001b[39;00m e:\n\u001b[1;32m    194\u001b[0m     \u001b[38;5;66;03m# When the function is just a wrapper around an estimator, we allow\u001b[39;00m\n\u001b[1;32m    195\u001b[0m     \u001b[38;5;66;03m# the function to delegate validation to the estimator, but we replace\u001b[39;00m\n\u001b[1;32m    196\u001b[0m     \u001b[38;5;66;03m# the name of the estimator by the name of the function in the error\u001b[39;00m\n\u001b[1;32m    197\u001b[0m     \u001b[38;5;66;03m# message to avoid confusion.\u001b[39;00m\n\u001b[1;32m    198\u001b[0m     msg \u001b[38;5;241m=\u001b[39m re\u001b[38;5;241m.\u001b[39msub(\n\u001b[1;32m    199\u001b[0m         \u001b[38;5;124mr\u001b[39m\u001b[38;5;124m\"\u001b[39m\u001b[38;5;124mparameter of \u001b[39m\u001b[38;5;124m\\\u001b[39m\u001b[38;5;124mw+ must be\u001b[39m\u001b[38;5;124m\"\u001b[39m,\n\u001b[1;32m    200\u001b[0m         \u001b[38;5;124mf\u001b[39m\u001b[38;5;124m\"\u001b[39m\u001b[38;5;124mparameter of \u001b[39m\u001b[38;5;132;01m{\u001b[39;00mfunc\u001b[38;5;241m.\u001b[39m\u001b[38;5;18m__qualname__\u001b[39m\u001b[38;5;132;01m}\u001b[39;00m\u001b[38;5;124m must be\u001b[39m\u001b[38;5;124m\"\u001b[39m,\n\u001b[1;32m    201\u001b[0m         \u001b[38;5;28mstr\u001b[39m(e),\n\u001b[1;32m    202\u001b[0m     )\n",
      "File \u001b[0;32m/opt/conda/lib/python3.10/site-packages/sklearn/metrics/_classification.py:221\u001b[0m, in \u001b[0;36maccuracy_score\u001b[0;34m(y_true, y_pred, normalize, sample_weight)\u001b[0m\n\u001b[1;32m    155\u001b[0m \u001b[38;5;124;03m\"\"\"Accuracy classification score.\u001b[39;00m\n\u001b[1;32m    156\u001b[0m \n\u001b[1;32m    157\u001b[0m \u001b[38;5;124;03mIn multilabel classification, this function computes subset accuracy:\u001b[39;00m\n\u001b[0;32m   (...)\u001b[0m\n\u001b[1;32m    217\u001b[0m \u001b[38;5;124;03m0.5\u001b[39;00m\n\u001b[1;32m    218\u001b[0m \u001b[38;5;124;03m\"\"\"\u001b[39;00m\n\u001b[1;32m    220\u001b[0m \u001b[38;5;66;03m# Compute accuracy for each possible representation\u001b[39;00m\n\u001b[0;32m--> 221\u001b[0m y_type, y_true, y_pred \u001b[38;5;241m=\u001b[39m \u001b[43m_check_targets\u001b[49m\u001b[43m(\u001b[49m\u001b[43my_true\u001b[49m\u001b[43m,\u001b[49m\u001b[43m \u001b[49m\u001b[43my_pred\u001b[49m\u001b[43m)\u001b[49m\n\u001b[1;32m    222\u001b[0m check_consistent_length(y_true, y_pred, sample_weight)\n\u001b[1;32m    223\u001b[0m \u001b[38;5;28;01mif\u001b[39;00m y_type\u001b[38;5;241m.\u001b[39mstartswith(\u001b[38;5;124m\"\u001b[39m\u001b[38;5;124mmultilabel\u001b[39m\u001b[38;5;124m\"\u001b[39m):\n",
      "File \u001b[0;32m/opt/conda/lib/python3.10/site-packages/sklearn/metrics/_classification.py:86\u001b[0m, in \u001b[0;36m_check_targets\u001b[0;34m(y_true, y_pred)\u001b[0m\n\u001b[1;32m     59\u001b[0m \u001b[38;5;28;01mdef\u001b[39;00m \u001b[38;5;21m_check_targets\u001b[39m(y_true, y_pred):\n\u001b[1;32m     60\u001b[0m     \u001b[38;5;124;03m\"\"\"Check that y_true and y_pred belong to the same classification task.\u001b[39;00m\n\u001b[1;32m     61\u001b[0m \n\u001b[1;32m     62\u001b[0m \u001b[38;5;124;03m    This converts multiclass or binary types to a common shape, and raises a\u001b[39;00m\n\u001b[0;32m   (...)\u001b[0m\n\u001b[1;32m     84\u001b[0m \u001b[38;5;124;03m    y_pred : array or indicator matrix\u001b[39;00m\n\u001b[1;32m     85\u001b[0m \u001b[38;5;124;03m    \"\"\"\u001b[39;00m\n\u001b[0;32m---> 86\u001b[0m     \u001b[43mcheck_consistent_length\u001b[49m\u001b[43m(\u001b[49m\u001b[43my_true\u001b[49m\u001b[43m,\u001b[49m\u001b[43m \u001b[49m\u001b[43my_pred\u001b[49m\u001b[43m)\u001b[49m\n\u001b[1;32m     87\u001b[0m     type_true \u001b[38;5;241m=\u001b[39m type_of_target(y_true, input_name\u001b[38;5;241m=\u001b[39m\u001b[38;5;124m\"\u001b[39m\u001b[38;5;124my_true\u001b[39m\u001b[38;5;124m\"\u001b[39m)\n\u001b[1;32m     88\u001b[0m     type_pred \u001b[38;5;241m=\u001b[39m type_of_target(y_pred, input_name\u001b[38;5;241m=\u001b[39m\u001b[38;5;124m\"\u001b[39m\u001b[38;5;124my_pred\u001b[39m\u001b[38;5;124m\"\u001b[39m)\n",
      "File \u001b[0;32m/opt/conda/lib/python3.10/site-packages/sklearn/utils/validation.py:397\u001b[0m, in \u001b[0;36mcheck_consistent_length\u001b[0;34m(*arrays)\u001b[0m\n\u001b[1;32m    395\u001b[0m uniques \u001b[38;5;241m=\u001b[39m np\u001b[38;5;241m.\u001b[39munique(lengths)\n\u001b[1;32m    396\u001b[0m \u001b[38;5;28;01mif\u001b[39;00m \u001b[38;5;28mlen\u001b[39m(uniques) \u001b[38;5;241m>\u001b[39m \u001b[38;5;241m1\u001b[39m:\n\u001b[0;32m--> 397\u001b[0m     \u001b[38;5;28;01mraise\u001b[39;00m \u001b[38;5;167;01mValueError\u001b[39;00m(\n\u001b[1;32m    398\u001b[0m         \u001b[38;5;124m\"\u001b[39m\u001b[38;5;124mFound input variables with inconsistent numbers of samples: \u001b[39m\u001b[38;5;132;01m%r\u001b[39;00m\u001b[38;5;124m\"\u001b[39m\n\u001b[1;32m    399\u001b[0m         \u001b[38;5;241m%\u001b[39m [\u001b[38;5;28mint\u001b[39m(l) \u001b[38;5;28;01mfor\u001b[39;00m l \u001b[38;5;129;01min\u001b[39;00m lengths]\n\u001b[1;32m    400\u001b[0m     )\n",
      "\u001b[0;31mValueError\u001b[0m: Found input variables with inconsistent numbers of samples: [2780, 695]"
     ]
    }
   ],
   "source": [
    "from sklearn.metrics import confusion_matrix\n",
    "from sklearn.metrics import accuracy_score, precision_score, recall_score, f1_score\n",
    "from sklearn.metrics import classification_report\n",
    "\n",
    "\n",
    "print('\\nAccuracy: {:.2f}\\n'.format(accuracy_score(flow_label, flow_pred)))"
   ]
  }
 ],
 "metadata": {
  "kernelspec": {
   "display_name": "Python 3 (ipykernel)",
   "language": "python",
   "name": "python3"
  },
  "language_info": {
   "codemirror_mode": {
    "name": "ipython",
    "version": 3
   },
   "file_extension": ".py",
   "mimetype": "text/x-python",
   "name": "python",
   "nbconvert_exporter": "python",
   "pygments_lexer": "ipython3",
   "version": "3.10.8"
  },
  "vscode": {
   "interpreter": {
    "hash": "d4d1e4263499bec80672ea0156c357c1ee493ec2b1c70f0acce89fc37c4a6abe"
   }
  }
 },
 "nbformat": 4,
 "nbformat_minor": 5
}
