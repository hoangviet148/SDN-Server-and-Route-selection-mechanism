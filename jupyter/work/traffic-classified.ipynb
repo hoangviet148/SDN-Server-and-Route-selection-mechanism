{
 "cells": [
  {
   "cell_type": "code",
   "execution_count": 2,
   "id": "e4d6bb8a-656b-4e53-b880-51c0906fa8cc",
   "metadata": {},
   "outputs": [],
   "source": [
    "import os\n",
    "from time import time, localtime\n",
    "import logging\n",
    "logging.disable(logging.WARNING)\n",
    "os.environ[\"TF_CPP_MIN_LOG_LEVEL\"] = \"3\"\n",
    "import numpy as np\n",
    "# from utils import plot_graph\n",
    "# import tensorflow_federated as tff\n",
    "import tensorflow as tf\n",
    "from sklearn.preprocessing import MinMaxScaler\n",
    "from keras import losses, metrics, optimizers\n",
    "import random\n",
    "import pandas as pd\n",
    "import sys\n",
    "import matplotlib.pyplot as plt\n",
    "import nest_asyncio\n",
    "from pathlib import Path\n",
    "# from tensorflow_federated.python.research.utils import checkpoint_manager\n",
    "# import tensorflow_addons as tfa\n",
    "nest_asyncio.apply()\n",
    "SEED = 1337\n",
    "tf.random.set_seed(SEED)"
   ]
  },
  {
   "cell_type": "code",
   "execution_count": 3,
   "id": "4b76820b",
   "metadata": {},
   "outputs": [],
   "source": [
    "def most_frequent(List):\n",
    "    return max(set(List), key=List.count)"
   ]
  },
  {
   "cell_type": "code",
   "execution_count": 4,
   "id": "df353d6b",
   "metadata": {},
   "outputs": [
    {
     "name": "stdout",
     "output_type": "stream",
     "text": [
      "       flow_id    0    1    2    3    4    5    6    7    8    9  Label\n",
      "0           29   16   10  149  182  192  172  158  109   13   79      1\n",
      "1           29   16   10  168  155  186  253  154  217  174   83      1\n",
      "2           29   16   10  167  101   83  237  126   84  226   69      1\n",
      "3           29   16   10  166  230  173   64    4  169   36  232      1\n",
      "4           29   16   10  165   59   89  192  140  124  161  173      1\n",
      "...        ...  ...  ...  ...  ...  ...  ...  ...  ...  ...  ...    ...\n",
      "55595   138365  144  111   86  255  137  119   88  101  151   95      2\n",
      "55596   138365  144  239   86  254  137  119   84  165  151   95      2\n",
      "55597   138365  144  111   87   16  137  119  152   37  151   95      2\n",
      "55598   138365  144  111   87    6  137  119  114  165  151   95      2\n",
      "55599   138365  144  111   87   17  137  119  155  229  151   95      2\n",
      "\n",
      "[55600 rows x 12 columns]\n"
     ]
    }
   ],
   "source": [
    "test_dir = \"/home/jovyan/dataset/GQUIC_small/Test/GQUIC_test_10.feather\"\n",
    "test = pd.read_feather(test_dir)\n",
    "print(test)\n",
    "test.to_csv(\"/home/jovyan/dataset/GQUIC_small/Test/GQUIC_test_10.csv\")\n"
   ]
  },
  {
   "cell_type": "code",
   "execution_count": 5,
   "id": "fe50e16c",
   "metadata": {},
   "outputs": [],
   "source": [
    "result = test.groupby('flow_id')['Label'].apply(list).to_dict()\n",
    "# print(result, type(result))\n",
    "flow_label = []\n",
    "for flow in result:\n",
    "    flow_label.append(most_frequent(result[flow]))\n",
    "\n",
    "flow_label = np.array(flow_label)"
   ]
  },
  {
   "cell_type": "code",
   "execution_count": 6,
   "id": "5805a09f",
   "metadata": {},
   "outputs": [],
   "source": [
    "true_test = test.drop('flow_id', axis=1)"
   ]
  },
  {
   "cell_type": "code",
   "execution_count": 7,
   "id": "feb55b4f",
   "metadata": {},
   "outputs": [
    {
     "name": "stdout",
     "output_type": "stream",
     "text": [
      "<class 'numpy.ndarray'>\n"
     ]
    }
   ],
   "source": [
    "x_test = true_test.drop('Label', axis=1).to_numpy()/255\n",
    "print(type(x_test))"
   ]
  },
  {
   "cell_type": "code",
   "execution_count": 8,
   "id": "4635d916",
   "metadata": {},
   "outputs": [
    {
     "data": {
      "text/plain": [
       "array([0.0627451 , 0.04705882, 0.49411765, 0.31372549, 0.51372549,\n",
       "       0.43137255, 0.05098039, 0.80392157, 0.57647059, 0.69411765])"
      ]
     },
     "execution_count": 8,
     "metadata": {},
     "output_type": "execute_result"
    }
   ],
   "source": [
    "x_test[20]"
   ]
  },
  {
   "cell_type": "code",
   "execution_count": 9,
   "id": "903b6dc8",
   "metadata": {},
   "outputs": [
    {
     "ename": "ValueError",
     "evalue": "cannot reshape array of size 556000 into shape (20,128,1)",
     "output_type": "error",
     "traceback": [
      "\u001b[0;31m---------------------------------------------------------------------------\u001b[0m",
      "\u001b[0;31mValueError\u001b[0m                                Traceback (most recent call last)",
      "Cell \u001b[0;32mIn[9], line 1\u001b[0m\n\u001b[0;32m----> 1\u001b[0m x_test \u001b[39m=\u001b[39m x_test\u001b[39m.\u001b[39;49mreshape(\u001b[39m-\u001b[39;49m\u001b[39m1\u001b[39;49m,\u001b[39m20\u001b[39;49m,\u001b[39m128\u001b[39;49m,\u001b[39m1\u001b[39;49m)\n",
      "\u001b[0;31mValueError\u001b[0m: cannot reshape array of size 556000 into shape (20,128,1)"
     ]
    }
   ],
   "source": [
    "x_test = x_test.reshape(-1,20,128,1)"
   ]
  },
  {
   "cell_type": "code",
   "execution_count": null,
   "id": "0f66fc09",
   "metadata": {},
   "outputs": [],
   "source": [
    "x_test[1]"
   ]
  },
  {
   "cell_type": "markdown",
   "id": "9ef04138",
   "metadata": {
    "tags": []
   },
   "source": [
    "### Model Definition"
   ]
  },
  {
   "cell_type": "code",
   "execution_count": 11,
   "id": "921240ee",
   "metadata": {},
   "outputs": [],
   "source": [
    "model = tf.keras.models.load_model(\"/home/jovyan/dataset/model\")"
   ]
  },
  {
   "cell_type": "code",
   "execution_count": 13,
   "id": "6ab76c04",
   "metadata": {},
   "outputs": [
    {
     "data": {
      "text/plain": [
       "<tensorflow.python.saved_model.load.Loader._recreate_base_user_object.<locals>._UserObject at 0x7fe3f77531f0>"
      ]
     },
     "execution_count": 13,
     "metadata": {},
     "output_type": "execute_result"
    }
   ],
   "source": [
    "model"
   ]
  },
  {
   "cell_type": "code",
   "execution_count": 35,
   "id": "76374143",
   "metadata": {},
   "outputs": [
    {
     "ename": "AttributeError",
     "evalue": "'_UserObject' object has no attribute 'summary'",
     "output_type": "error",
     "traceback": [
      "\u001b[0;31m---------------------------------------------------------------------------\u001b[0m",
      "\u001b[0;31mAttributeError\u001b[0m                            Traceback (most recent call last)",
      "Cell \u001b[0;32mIn[35], line 1\u001b[0m\n\u001b[0;32m----> 1\u001b[0m model\u001b[39m.\u001b[39;49msummary()\n",
      "\u001b[0;31mAttributeError\u001b[0m: '_UserObject' object has no attribute 'summary'"
     ]
    }
   ],
   "source": [
    "model.summary()"
   ]
  },
  {
   "cell_type": "markdown",
   "id": "2369418a",
   "metadata": {
    "tags": []
   },
   "source": [
    "### Predict"
   ]
  },
  {
   "cell_type": "markdown",
   "id": "d7cca576",
   "metadata": {},
   "source": [
    "#### Predict all"
   ]
  },
  {
   "cell_type": "code",
   "execution_count": 12,
   "id": "55e77824",
   "metadata": {},
   "outputs": [
    {
     "ename": "AttributeError",
     "evalue": "'_UserObject' object has no attribute 'predict'",
     "output_type": "error",
     "traceback": [
      "\u001b[0;31m---------------------------------------------------------------------------\u001b[0m",
      "\u001b[0;31mAttributeError\u001b[0m                            Traceback (most recent call last)",
      "Cell \u001b[0;32mIn[12], line 1\u001b[0m\n\u001b[0;32m----> 1\u001b[0m predictions \u001b[39m=\u001b[39m model\u001b[39m.\u001b[39;49mpredict(x_test,verbose\u001b[39m=\u001b[39m\u001b[39m2\u001b[39m,use_multiprocessing\u001b[39m=\u001b[39m\u001b[39mTrue\u001b[39;00m,batch_size\u001b[39m=\u001b[39m\u001b[39m64\u001b[39m)\n",
      "\u001b[0;31mAttributeError\u001b[0m: '_UserObject' object has no attribute 'predict'"
     ]
    }
   ],
   "source": [
    "predictions = model.predict(x_test,verbose=2,use_multiprocessing=True,batch_size=64)"
   ]
  }
 ],
 "metadata": {
  "kernelspec": {
   "display_name": "Python 3 (ipykernel)",
   "language": "python",
   "name": "python3"
  },
  "language_info": {
   "codemirror_mode": {
    "name": "ipython",
    "version": 3
   },
   "file_extension": ".py",
   "mimetype": "text/x-python",
   "name": "python",
   "nbconvert_exporter": "python",
   "pygments_lexer": "ipython3",
   "version": "3.10.8"
  },
  "vscode": {
   "interpreter": {
    "hash": "d4d1e4263499bec80672ea0156c357c1ee493ec2b1c70f0acce89fc37c4a6abe"
   }
  }
 },
 "nbformat": 4,
 "nbformat_minor": 5
}
